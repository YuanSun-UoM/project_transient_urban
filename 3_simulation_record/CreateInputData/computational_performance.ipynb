{
 "cells": [
  {
   "cell_type": "code",
   "execution_count": 14,
   "metadata": {},
   "outputs": [],
   "source": [
    "import xarray as xr\n",
    "import numpy as np\n",
    "import netCDF4 as nc\n",
    "import shutil"
   ]
  },
  {
   "cell_type": "code",
   "execution_count": 23,
   "metadata": {},
   "outputs": [],
   "source": [
    "path = '/Users/user/Desktop/CESM_data/inputdata/'\n",
    "SavetoPath = '/Users/user/Desktop/Yuan_phdrecord/project1/inputdata/computation_performance2/'\n",
    "fname = 'surfdata_0.9x1.25_hist_16pfts_Irrig_CMIP6_simyr1850_c190214.nc'\n",
    "fname2 = 'surfdata_0.9x1.25_hist_16pfts_Irrig_CMIP6_simyr1850_c240126_roofalsbedo0.03.nc'\n",
    "ds = xr.open_dataset(path+fname)"
   ]
  },
  {
   "cell_type": "code",
   "execution_count": 24,
   "metadata": {},
   "outputs": [
    {
     "name": "stdout",
     "output_type": "stream",
     "text": [
      "<xarray.DataArray 'ALB_ROOF_DIF' ()>\n",
      "array(0.61000001)\n"
     ]
    }
   ],
   "source": [
    "print(ds['ALB_ROOF_DIF'].max())"
   ]
  },
  {
   "cell_type": "code",
   "execution_count": 25,
   "metadata": {},
   "outputs": [],
   "source": [
    "mask7 = ds.variables['ALB_ROOF_DIR'][:,:,:,:] !=0\n",
    "ds.variables['ALB_ROOF_DIR'][:,:,:,:] =np.where(mask7,ds.variables['ALB_ROOF_DIR']+0.03, ds.variables['ALB_ROOF_DIR'])\n",
    "\n",
    "mask8 = ds.variables['ALB_ROOF_DIF'][:,:,:,:] !=0\n",
    "ds.variables['ALB_ROOF_DIF'][:,:,:,:] =np.where(mask8,ds.variables['ALB_ROOF_DIF']+0.03, ds.variables['ALB_ROOF_DIF'])"
   ]
  },
  {
   "cell_type": "code",
   "execution_count": 26,
   "metadata": {},
   "outputs": [],
   "source": [
    "ds.to_netcdf(SavetoPath+fname2)"
   ]
  },
  {
   "cell_type": "code",
   "execution_count": 27,
   "metadata": {},
   "outputs": [
    {
     "name": "stdout",
     "output_type": "stream",
     "text": [
      "<xarray.DataArray 'ALB_ROOF_DIF' ()>\n",
      "array(0.64000001)\n"
     ]
    }
   ],
   "source": [
    "print(ds['ALB_ROOF_DIF'].max())"
   ]
  }
 ],
 "metadata": {
  "kernelspec": {
   "display_name": "Python 3",
   "language": "python",
   "name": "python3"
  },
  "language_info": {
   "codemirror_mode": {
    "name": "ipython",
    "version": 3
   },
   "file_extension": ".py",
   "mimetype": "text/x-python",
   "name": "python",
   "nbconvert_exporter": "python",
   "pygments_lexer": "ipython3",
   "version": "3.11.6"
  }
 },
 "nbformat": 4,
 "nbformat_minor": 2
}
